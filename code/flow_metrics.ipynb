{
 "cells": [
  {
   "cell_type": "code",
   "execution_count": 2,
   "metadata": {},
   "outputs": [],
   "source": [
    "import pandas as pd\n",
    "import numpy as np\n",
    "from datetime import datetime\n",
    "from dotenv import load_dotenv\n",
    "import os\n",
    "\n",
    "import warnings\n",
    "warnings.filterwarnings(\"ignore\")"
   ]
  },
  {
   "cell_type": "code",
   "execution_count": 3,
   "metadata": {},
   "outputs": [],
   "source": [
    "load_dotenv()\n",
    "path = os.getenv(\"path\")\n",
    "raw_station_path = os.getenv(\"raw_station_path\")"
   ]
  },
  {
   "cell_type": "markdown",
   "metadata": {},
   "source": [
    "Flow metrics computation helper functions"
   ]
  },
  {
   "cell_type": "code",
   "execution_count": 4,
   "metadata": {},
   "outputs": [],
   "source": [
    "def RB_Flashiness(Q):\n",
    "    \"\"\"Richards-Baker Flashiness Index for a series of daily mean discharges.\"\"\"\n",
    "    Qsum = np.sum(Q)\n",
    "    Qpath = 0.0\n",
    "    for i in range(len(Q)):\n",
    "        if i == 0:\n",
    "            Qpath = Q.iloc[i]\n",
    "        else:\n",
    "            Qpath += np.abs(Q.iloc[i] - Q.iloc[i - 1])\n",
    "    RBindex = Qpath / Qsum\n",
    "\n",
    "    return round(RBindex[0], 2)\n",
    "\n",
    "\n",
    "def max_flow(Q):\n",
    "    Q = Q.to_numpy()\n",
    "    maxFlow = Q.max()\n",
    "    return maxFlow\n",
    "\n",
    "\n",
    "def min_flow(Q):\n",
    "    Q = Q.to_numpy()\n",
    "    minFlow = Q.min()\n",
    "    return minFlow\n",
    "\n",
    "\n",
    "def med_flow(Q):\n",
    "    Q = Q.to_numpy()\n",
    "    medFlow = np.median(Q)\n",
    "    return medFlow\n",
    "\n",
    "\n",
    "def cvQ(Q):\n",
    "    Q = Q.to_numpy()\n",
    "    \"\"\" The ratio between the standard deviation and the mean. \"\"\"\n",
    "    Q_std = np.std(Q, ddof=1)\n",
    "    Q_mean = np.mean(Q)\n",
    "    cv = Q_std / Q_mean\n",
    "    cv = round(cv, 4)\n",
    "    return cv\n",
    "\n",
    "\n",
    "def q95(Q):\n",
    "    \"\"\"Q 95%: The specific discharge that is exceeded only 5% of all days at a particular site\"\"\"\n",
    "    q95_percentile = np.percentile(Q, 95)\n",
    "\n",
    "    return q95_percentile\n",
    "\n",
    "\n",
    "def q5(Q):\n",
    "    \"\"\"Q 5%: The specific discharge that is exceeded up to 95% of all days at a particular site\"\"\"\n",
    "    q5_percentile = np.percentile(Q, 5)\n",
    "\n",
    "    return q5_percentile\n",
    "\n",
    "\n",
    "def time_max(Q):\n",
    "    tmax_time = Q[Q[\"Flow\"] == max_flow(Q)].index\n",
    "    tmax_value = tmax_time[0]\n",
    "    tmax_str = str(tmax_value)\n",
    "    tmax = tmax_str.split(\" \")\n",
    "    tmaxt = datetime.strptime(tmax[0], \"%Y-%m-%d\")\n",
    "    day_of_year = tmaxt.timetuple().tm_yday\n",
    "    return day_of_year\n",
    "\n",
    "\n",
    "def time_min(Q):\n",
    "    tmin_time = Q[Q[\"Flow\"] == min_flow(Q)].index\n",
    "    tmin_value = tmin_time[0]\n",
    "    tmin_str = str(tmin_value)\n",
    "    tmin = tmin_str.split(\" \")\n",
    "    tmint = datetime.strptime(tmin[0], \"%Y-%m-%d\")\n",
    "    day_of_year = tmint.timetuple().tm_yday\n",
    "    return day_of_year"
   ]
  },
  {
   "cell_type": "markdown",
   "metadata": {},
   "source": [
    "Test cases:"
   ]
  },
  {
   "cell_type": "code",
   "execution_count": 5,
   "metadata": {},
   "outputs": [
    {
     "name": "stdout",
     "output_type": "stream",
     "text": [
      "369.0 31.7 14.5 172.00000000000006 172.00000000000006 nan 78 214 0.24 3.6938\n",
      "142.0 20.65 11.4 82.325 82.325 nan 74 286 0.18 2.9707\n",
      "454.0 39.4 12.4 167.8 167.8 nan 101 23 0.24 3.7659\n",
      "573.0 30.6 17.2 159.4000000000001 159.4000000000001 nan 105 80 0.19 3.1565\n",
      "188.0 21.5 11.6 81.14 81.14 nan 165 56 0.17 2.8718\n",
      "418.0 17.95 6.45 154.5 154.5 nan 92 350 0.24 3.8454\n",
      "780.0 36.4 8.84 162.60000000000014 162.60000000000014 nan 175 360 0.26 3.9624\n",
      "481.0 24.7 14.5 134.40000000000003 134.40000000000003 nan 52 217 0.21 3.4385\n",
      "275.0 27.3 13.5 129.8 129.8 nan 74 20 0.21 3.394\n",
      "639.0 24.7 12.3 127.25 127.25 nan 12 214 0.22 3.5891\n"
     ]
    }
   ],
   "source": [
    "station_path = os.path.join(\n",
    "    path + raw_station_path, \"CA_flow_data/02GA003_Daily_Flow_ts.csv\"\n",
    ")\n",
    "station_df = pd.read_csv(station_path, parse_dates=[2],index_col=[2], encoding=\"unicode_escape\")\n",
    "\n",
    "station_filtered_years = station_df.iloc[(station_df.index.year >= 2011) & (station_df.index.year <= 2020)\n",
    "                                        ].drop(columns=[\"PARAM\", \"SYM\", \" ID\"] ).rename(columns={\"Flow(m³/s)\": \"Flow\"})\n",
    "\n",
    "count = 0\n",
    "years = np.arange(2011, 2021, 1)\n",
    "percent = list()\n",
    "for y in years:\n",
    "    for i in range(0, len(station_filtered_years.iloc[station_filtered_years.index.year == y][\"Flow\"])):\n",
    "        if pd.isnull(station_filtered_years.iloc[station_filtered_years.index.year == y][\"Flow\"][i]):\n",
    "            count += 1\n",
    "    # count_percent=round((count*100)/len(station_filtered_years.iloc[station_filtered_years.index.year== y][\"Value\"]))\n",
    "    count_percent = round((count * 100) / 365)\n",
    "    if count_percent < 1:\n",
    "        Q = station_filtered_years.iloc[station_filtered_years.index.year == y]\n",
    "        # Q = Q.drop(columns=[\"PARAM\", \"SYM\", \" ID\"])\n",
    "        maximum = max_flow(Q)\n",
    "        median = med_flow(Q)\n",
    "        minimum = min_flow(Q)\n",
    "        q_95 = q95(Q)\n",
    "        q_5 = q5(Q)\n",
    "        bfi = np.nan\n",
    "        tmax = time_max(Q)\n",
    "        tmin = time_min(Q)\n",
    "        rbindex = RB_Flashiness(Q)\n",
    "        cv_Q = cvQ(Q)\n",
    "        print(maximum, median, minimum,q_95,q_95,bfi,tmax,tmin,rbindex,cv_Q)\n",
    "\n",
    "    else:\n",
    "        maximum = np.nan\n",
    "        median = np.nan\n",
    "        minimum = np.nan\n",
    "        q_95 = np.nan\n",
    "        q_5 = np.nan\n",
    "        bfi = np.nan\n",
    "        tmax = np.nan\n",
    "        tmin = np.nan\n",
    "        rbindex = np.nan\n",
    "        cv_Q = np.nan"
   ]
  }
 ],
 "metadata": {
  "kernelspec": {
   "display_name": ".venv",
   "language": "python",
   "name": "python3"
  },
  "language_info": {
   "codemirror_mode": {
    "name": "ipython",
    "version": 3
   },
   "file_extension": ".py",
   "mimetype": "text/x-python",
   "name": "python",
   "nbconvert_exporter": "python",
   "pygments_lexer": "ipython3",
   "version": "3.11.6"
  }
 },
 "nbformat": 4,
 "nbformat_minor": 2
}
