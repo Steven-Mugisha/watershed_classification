{
 "cells": [
  {
   "cell_type": "code",
   "execution_count": 20,
   "metadata": {},
   "outputs": [],
   "source": [
    "import rasterio\n",
    "import geopandas as gpd\n",
    "from dotenv import load_dotenv\n",
    "import os\n",
    "import xarray as xr\n",
    "import matplotlib.pyplot as plt\n",
    "from rasterio.plot import show\n",
    "import rasterstats\n",
    "import scipy\n",
    "import pandas as pd\n",
    "import tempfile\n",
    "import shutil\n",
    "from tqdm import tqdm\n",
    "\n",
    "load_dotenv()\n",
    "directory = os.getenv(\"path\")\n",
    "climate_path = os.getenv(\"climate_path\")\n",
    "\n",
    "import warnings\n",
    "warnings.simplefilter(\"ignore\", category=UserWarning)\n",
    "warnings.resetwarnings()"
   ]
  },
  {
   "cell_type": "code",
   "execution_count": 21,
   "metadata": {},
   "outputs": [],
   "source": [
    "def plot_raster_and_shapefile(raster_path, shapefile_path):\n",
    "    # raster\n",
    "    rf = rasterio.open(raster_path)\n",
    "\n",
    "    # shapefile\n",
    "    shp = gpd.read_file(shapefile_path)\n",
    "\n",
    "    fig, ax = plt.subplots(1,1, figsize=(5,5))\n",
    "    show(rf, ax=ax, title='on polygons')\n",
    "    shp.plot(ax=ax, facecolor = None, edgecolor='yellow')\n",
    "\n",
    "    return plt.show()"
   ]
  },
  {
   "cell_type": "markdown",
   "metadata": {},
   "source": [
    "Working solution"
   ]
  },
  {
   "cell_type": "code",
   "execution_count": 22,
   "metadata": {},
   "outputs": [],
   "source": [
    "output_path = os.getenv(\"output_path\")\n",
    "def climate_indices_stats(reference_dataset_path, climate_indices_path, shapefile_path) -> dict:\n",
    "    # reference dataset\n",
    "    ds = xr.open_dataset(reference_dataset_path)\n",
    "\n",
    "    # shapefile\n",
    "    shp = gpd.read_file(shapefile_path)\n",
    "\n",
    "    # climate indices data initially stored in a matlab files\n",
    "    mat_data = scipy.io.loadmat(climate_indices_path)\n",
    "    climate_indices = [key for key in mat_data.keys() if '__' not in key]\n",
    "\n",
    "    zonal_climate_stats = {}\n",
    "\n",
    "    # loop through the climate indices\n",
    "    for index in climate_indices:\n",
    "        mat_shape = mat_data[index].shape\n",
    "        if mat_shape[0] == 630:\n",
    "            ds[index] = (('y', 'x'), mat_data[index].T)\n",
    "        else:\n",
    "            ds[index] = (('y', 'x'), mat_data[index].T)\n",
    "\n",
    "        # replace the climate indices with the reference dataset\n",
    "        try:\n",
    "            new_netcdf = xr.DataArray(\n",
    "                data=ds[index],\n",
    "                dims=(\"y\", \"x\"),\n",
    "                coords={\"y\": ds.y, \"x\": ds.x},\n",
    "            )\n",
    "            ds['prcp'] = new_netcdf\n",
    "\n",
    "            # add crs to the raster\n",
    "            ds.rio.write_crs(shp.crs, inplace=True)\n",
    "\n",
    "            temp_dir = tempfile.mkdtemp(dir=output_path)\n",
    "            rf_path = os.path.join(temp_dir, f\"{index}.tif\")\n",
    "            ds.prcp.rio.to_raster(rf_path)\n",
    "\n",
    "            # print(f'Raster crs: {rasterio.open(rf_path).crs}')\n",
    "\n",
    "            # zonal stats\n",
    "            stats = rasterstats.zonal_stats(shp, rf_path, stats=\"mean\")\n",
    "            zonal_climate_stats[index] = stats\n",
    "\n",
    "        finally:\n",
    "            shutil.rmtree(temp_dir)\n",
    "\n",
    "    return zonal_climate_stats"
   ]
  },
  {
   "cell_type": "code",
   "execution_count": 23,
   "metadata": {},
   "outputs": [
    {
     "name": "stderr",
     "output_type": "stream",
     "text": [
      "100%|██████████| 10/10 [02:21<00:00, 14.10s/it]\n"
     ]
    }
   ],
   "source": [
    "def climate_zonal_datasets(shp_path_on, shp_path_us, reference_dataset_path, dir_climate_indices) -> pd.DataFrame:\n",
    "\n",
    "    climate_indices_paths = os.listdir(dir_climate_indices)\n",
    "\n",
    "    year_indices = {}\n",
    "\n",
    "    for file in tqdm(climate_indices_paths):\n",
    "        year_matrix = int(file.split(\"_\")[1].split(\"r\")[1])\n",
    "        dir_file = os.path.join(directory, \"ClimateIndices\", \"indices\", file)\n",
    "        on_stats = climate_indices_stats(reference_dataset_path, dir_file, shp_path_on)\n",
    "        us_stats = climate_indices_stats(reference_dataset_path, dir_file, shp_path_us)\n",
    "\n",
    "        year_indices[year_matrix] = [on_stats, us_stats]\n",
    "\n",
    "    return year_indices"
   ]
  },
  {
   "cell_type": "code",
   "execution_count": 24,
   "metadata": {},
   "outputs": [],
   "source": [
    "# -- solution\n",
    "dir_climate_indices = os.path.join(directory, \"ClimateIndices\", \"indices\")\n",
    "reference_dataset_path = os.path.join(directory, \"ClimateIndices\", \"original_dataset.nc\")\n",
    "us_polygons = os.path.join(directory, \"ClimateIndices\", \"georeference\", \"us_subbasins\")\n",
    "on_polygons= os.path.join(directory, \"ClimateIndices\", \"georeference\", \"on_subbasins\", \"new_ON_subbasins.shp\")\n",
    "\n",
    "zonal_results = climate_zonal_datasets(on_polygons, us_polygons, reference_dataset_path, dir_climate_indices)\n",
    "\n",
    "on_subbasins = list(gpd.read_file(on_polygons)['Station'])\n",
    "us_subbasins = list(gpd.read_file(us_polygons)['GAGE_ID'])\n",
    "basins = on_subbasins + us_subbasins\n",
    "\n",
    "for y in tqdm(zonal_results):\n",
    "    all_indices_yr = []\n",
    "    for index in zonal_results[y][0]:\n",
    "        if index in zonal_results[y][1]:\n",
    "            countries_combined_stats = zonal_results[y][0][index] + zonal_results[y][1][index]\n",
    "            df = pd.DataFrame(countries_combined_stats)\n",
    "            df.columns = [f\"{index.split('_mapcurrentyear')[0]}_{y}\"]\n",
    "            all_indices_yr.append(df)\n",
    "\n",
    "    all_indices_yr_df = pd.concat(all_indices_yr, axis=1)\n",
    "    all_indices_yr_df.index = basins\n",
    "    all_indices_yr_df.to_csv(os.path.join(climate_path, f\"climate_indices_{y}.csv\"))"
   ]
  }
 ],
 "metadata": {
  "kernelspec": {
   "display_name": ".venv",
   "language": "python",
   "name": "python3"
  },
  "language_info": {
   "codemirror_mode": {
    "name": "ipython",
    "version": 3
   },
   "file_extension": ".py",
   "mimetype": "text/x-python",
   "name": "python",
   "nbconvert_exporter": "python",
   "pygments_lexer": "ipython3",
   "version": "3.11.6"
  }
 },
 "nbformat": 4,
 "nbformat_minor": 2
}
