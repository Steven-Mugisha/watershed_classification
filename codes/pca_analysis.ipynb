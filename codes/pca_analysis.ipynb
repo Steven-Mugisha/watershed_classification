{
 "cells": [
  {
   "cell_type": "code",
   "execution_count": 1,
   "metadata": {},
   "outputs": [],
   "source": [
    "from pca import PCA_Analysis \n",
    "from dotenv import load_dotenv\n",
    "import os\n",
    "import pandas as pd\n",
    "import glob\n",
    "from collections import Counter\n",
    "\n",
    "# load .env file and pca class\n",
    "load_dotenv()\n",
    "directory = os.getenv(\"path\")\n",
    "pca= PCA_Analysis()\n"
   ]
  },
  {
   "cell_type": "code",
   "execution_count": 2,
   "metadata": {},
   "outputs": [],
   "source": [
    "# #example of one structural data \n",
    "# struct_path = os.path.join(path_struct, \"140_TI_variables/leb_terrain.csv\")\n",
    "# input_struct_data = pd.read_csv(struct_path)\n",
    "# struct_data = pd.concat([input_struct_data[\"station_id\"], input_struct_data.iloc[:, 4:]], axis = 1)\n",
    "# struct_data = struct_data.set_index(\"station_id\")\n",
    "\n",
    "# example of how the module works\n",
    "# data = pca.pca_analysis(struct_data)\n",
    "# loadings = pca.loadings(struct_data)\n",
    "# top_components = pca.top_components(loadings, 5)\n",
    "# explained_var = pca.explained_variance(struct_data)\n",
    "\n",
    "# # plot explained variance \n",
    "# pca.pca_plot(explained_var)\n",
    "\n",
    "# # plot 3d for loadings\n",
    "# pca.pca_plot_3d(loadings)"
   ]
  },
  {
   "cell_type": "markdown",
   "metadata": {},
   "source": [
    "crop inventories"
   ]
  },
  {
   "cell_type": "code",
   "execution_count": 2,
   "metadata": {},
   "outputs": [
    {
     "data": {
      "text/plain": [
       "[('winterwheat', 6),\n",
       " ('soyabeans', 6),\n",
       " ('oats', 5),\n",
       " ('tomatoes', 5),\n",
       " ('corn', 4)]"
      ]
     },
     "execution_count": 2,
     "metadata": {},
     "output_type": "execute_result"
    }
   ],
   "source": [
    "crops_path = os.path.join(directory, \"structural_attributes/crop_inventories\")\n",
    "crop_inventories_files = glob.glob(f\"{crops_path}/*.csv\")\n",
    "\n",
    "top_components_dict = {}\n",
    "max_length = 0 \n",
    "\n",
    "for path in crop_inventories_files:\n",
    "    crop_yr_df = pd.read_csv(path)\n",
    "    crop_yr_df = crop_yr_df.set_index(crop_yr_df.columns[0])\n",
    "\n",
    "    # pca analysis\n",
    "    pca_df = pca.pca_analysis(crop_yr_df)\n",
    "    loadings = pca.loadings(crop_yr_df)\n",
    "    top_components = pca.top_components(loadings, 7)\n",
    "    # explained_var = pca.explained_variance(crop_yr_df)\n",
    "    top_components_dict[path.split(\"/\")[-1].split(\".\")[0]] = top_components\n",
    "\n",
    "most = pca.list_shared_attr(top_components_dict)\n",
    "most\n",
    "\n"
   ]
  },
  {
   "cell_type": "markdown",
   "metadata": {},
   "source": [
    "functional"
   ]
  },
  {
   "cell_type": "code",
   "execution_count": 7,
   "metadata": {},
   "outputs": [
    {
     "data": {
      "text/plain": [
       "[('Specific-YR-MaxFlow-', 10),\n",
       " ('Specific-YR-Q95-', 9),\n",
       " ('YR-CVQ-', 7),\n",
       " ('Specific-YR-MinFlow-', 6),\n",
       " ('YR-DOY-MaxFlow-', 4)]"
      ]
     },
     "execution_count": 7,
     "metadata": {},
     "output_type": "execute_result"
    }
   ],
   "source": [
    "functional_path = os.path.join(directory, \"functional_attributes/133_riverflow\")\n",
    "functional_files = glob.glob(f\"{functional_path}/*.csv\")\n",
    "\n",
    "yr_func_dict = {}\n",
    "for file in functional_files:\n",
    "    functional_df = pd.read_csv(file)\n",
    "    functional_df = functional_df.set_index(functional_df.columns[0])\n",
    "    functional_df = functional_df.loc[:, functional_df.columns.str.contains('YR')]\n",
    "    yr_remove_list = [\"YR-MaxFlow\", \"YR-MinFlow\",\"YR-MedianFlow\",\"YR-Q95Flow\",\"YR-Q5Flow\"]\n",
    "    functional_df = functional_df.loc[:, ~functional_df.columns.str.startswith(tuple(yr_remove_list))]\n",
    "    functional_df = functional_df.fillna(functional_df.median())\n",
    "\n",
    "    \n",
    "    # pca analysis\n",
    "    pca_df = pca.pca_analysis(functional_df)\n",
    "    loadings = pca.loadings(functional_df)\n",
    "    top_components = pca.top_components(loadings, 7)\n",
    "    explained_var = pca.explained_variance(functional_df)\n",
    "    yr_func_dict[file.split(\"/\")[-1].split(\".\")[0]] = top_components\n",
    "\n",
    "yr_func_most = pca.list_shared_attr(yr_func_dict)\n",
    "yr_func_most"
   ]
  }
 ],
 "metadata": {
  "kernelspec": {
   "display_name": ".venv",
   "language": "python",
   "name": "python3"
  },
  "language_info": {
   "codemirror_mode": {
    "name": "ipython",
    "version": 3
   },
   "file_extension": ".py",
   "mimetype": "text/x-python",
   "name": "python",
   "nbconvert_exporter": "python",
   "pygments_lexer": "ipython3",
   "version": "3.11.3"
  }
 },
 "nbformat": 4,
 "nbformat_minor": 2
}
