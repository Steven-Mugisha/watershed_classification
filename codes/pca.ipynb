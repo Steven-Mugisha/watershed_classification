{
 "cells": [
  {
   "cell_type": "code",
   "execution_count": 6,
   "metadata": {},
   "outputs": [],
   "source": [
    "import pandas as pd\n",
    "import numpy as np \n",
    "import matplotlib.pyplot as plt\n",
    "import seaborn as sns\n",
    "from sklearn.preprocessing import StandardScaler\n",
    "from sklearn.decomposition import PCA\n",
    "from dotenv import load_dotenv\n",
    "import os"
   ]
  },
  {
   "cell_type": "code",
   "execution_count": 8,
   "metadata": {},
   "outputs": [],
   "source": [
    "# paths:\n",
    "load_dotenv()\n",
    "path_struct = os.getenv(\"path_struct\")"
   ]
  },
  {
   "cell_type": "markdown",
   "metadata": {},
   "source": [
    "defining PCA functionalities"
   ]
  },
  {
   "cell_type": "markdown",
   "metadata": {},
   "source": [
    "importing datasets"
   ]
  },
  {
   "cell_type": "code",
   "execution_count": 72,
   "metadata": {},
   "outputs": [],
   "source": [
    "struct_path = os.path.join(path_struct, \"leb_surficial_geology.csv\")\n",
    "input_struct_data = pd.read_csv(struct_path)\n",
    "struct_data = pd.concat([input_struct_data[\"station_id\"], input_struct_data.iloc[:, 4:]], axis = 1)\n",
    "struct_data = struct_data.set_index(\"station_id\")\n",
    "\n",
    "# scaling \n",
    "sc = StandardScaler()\n",
    "X_scale = sc.fit_transform(struct_data)"
   ]
  },
  {
   "cell_type": "markdown",
   "metadata": {},
   "source": [
    "PCA"
   ]
  },
  {
   "cell_type": "code",
   "execution_count": 73,
   "metadata": {},
   "outputs": [
    {
     "data": {
      "text/html": [
       "<div>\n",
       "<style scoped>\n",
       "    .dataframe tbody tr th:only-of-type {\n",
       "        vertical-align: middle;\n",
       "    }\n",
       "\n",
       "    .dataframe tbody tr th {\n",
       "        vertical-align: top;\n",
       "    }\n",
       "\n",
       "    .dataframe thead th {\n",
       "        text-align: right;\n",
       "    }\n",
       "</style>\n",
       "<table border=\"1\" class=\"dataframe\">\n",
       "  <thead>\n",
       "    <tr style=\"text-align: right;\">\n",
       "      <th></th>\n",
       "      <th>station_id</th>\n",
       "      <th>PC1</th>\n",
       "      <th>PC2</th>\n",
       "      <th>PC3</th>\n",
       "    </tr>\n",
       "  </thead>\n",
       "  <tbody>\n",
       "    <tr>\n",
       "      <th>0</th>\n",
       "      <td>02GA003</td>\n",
       "      <td>-0.935658</td>\n",
       "      <td>-0.669631</td>\n",
       "      <td>1.011955</td>\n",
       "    </tr>\n",
       "    <tr>\n",
       "      <th>1</th>\n",
       "      <td>02GA005</td>\n",
       "      <td>-1.255797</td>\n",
       "      <td>-1.015043</td>\n",
       "      <td>0.036711</td>\n",
       "    </tr>\n",
       "    <tr>\n",
       "      <th>2</th>\n",
       "      <td>02GA010</td>\n",
       "      <td>-0.667548</td>\n",
       "      <td>-0.662302</td>\n",
       "      <td>1.040641</td>\n",
       "    </tr>\n",
       "    <tr>\n",
       "      <th>3</th>\n",
       "      <td>02GA014</td>\n",
       "      <td>-2.149466</td>\n",
       "      <td>0.050978</td>\n",
       "      <td>0.275678</td>\n",
       "    </tr>\n",
       "    <tr>\n",
       "      <th>4</th>\n",
       "      <td>02GA015</td>\n",
       "      <td>-0.525379</td>\n",
       "      <td>-1.023829</td>\n",
       "      <td>1.773440</td>\n",
       "    </tr>\n",
       "  </tbody>\n",
       "</table>\n",
       "</div>"
      ],
      "text/plain": [
       "  station_id       PC1       PC2       PC3\n",
       "0    02GA003 -0.935658 -0.669631  1.011955\n",
       "1    02GA005 -1.255797 -1.015043  0.036711\n",
       "2    02GA010 -0.667548 -0.662302  1.040641\n",
       "3    02GA014 -2.149466  0.050978  0.275678\n",
       "4    02GA015 -0.525379 -1.023829  1.773440"
      ]
     },
     "execution_count": 73,
     "metadata": {},
     "output_type": "execute_result"
    }
   ],
   "source": [
    "pca = PCA(n_components = 3)\n",
    "scores = pca.fit_transform(X_scale)\n",
    "scores_df = pd.DataFrame(scores, columns=[\"PC1\", \"PC2\", \"PC3\"])\n",
    "scores_df = pd.concat([input_struct_data[\"station_id\"], scores_df], axis=1)\n",
    "scores_df.head()"
   ]
  },
  {
   "cell_type": "markdown",
   "metadata": {},
   "source": [
    "Loadings"
   ]
  },
  {
   "cell_type": "code",
   "execution_count": 74,
   "metadata": {},
   "outputs": [
    {
     "data": {
      "text/html": [
       "<div>\n",
       "<style scoped>\n",
       "    .dataframe tbody tr th:only-of-type {\n",
       "        vertical-align: middle;\n",
       "    }\n",
       "\n",
       "    .dataframe tbody tr th {\n",
       "        vertical-align: top;\n",
       "    }\n",
       "\n",
       "    .dataframe thead th {\n",
       "        text-align: right;\n",
       "    }\n",
       "</style>\n",
       "<table border=\"1\" class=\"dataframe\">\n",
       "  <thead>\n",
       "    <tr style=\"text-align: right;\">\n",
       "      <th></th>\n",
       "      <th>PC1</th>\n",
       "      <th>PC2</th>\n",
       "      <th>PC3</th>\n",
       "    </tr>\n",
       "  </thead>\n",
       "  <tbody>\n",
       "    <tr>\n",
       "      <th>Alluvium</th>\n",
       "      <td>-0.307017</td>\n",
       "      <td>0.559304</td>\n",
       "      <td>-0.189623</td>\n",
       "    </tr>\n",
       "    <tr>\n",
       "      <th>Bedrock</th>\n",
       "      <td>-0.066623</td>\n",
       "      <td>-0.137234</td>\n",
       "      <td>0.299206</td>\n",
       "    </tr>\n",
       "    <tr>\n",
       "      <th>End moraine</th>\n",
       "      <td>0.404704</td>\n",
       "      <td>0.440399</td>\n",
       "      <td>0.173725</td>\n",
       "    </tr>\n",
       "    <tr>\n",
       "      <th>Ground moraine</th>\n",
       "      <td>-0.608762</td>\n",
       "      <td>-0.244691</td>\n",
       "      <td>-0.045819</td>\n",
       "    </tr>\n",
       "    <tr>\n",
       "      <th>Kames and esker</th>\n",
       "      <td>-0.217259</td>\n",
       "      <td>0.551350</td>\n",
       "      <td>-0.098980</td>\n",
       "    </tr>\n",
       "  </tbody>\n",
       "</table>\n",
       "</div>"
      ],
      "text/plain": [
       "                      PC1       PC2       PC3\n",
       "Alluvium        -0.307017  0.559304 -0.189623\n",
       "Bedrock         -0.066623 -0.137234  0.299206\n",
       "End moraine      0.404704  0.440399  0.173725\n",
       "Ground moraine  -0.608762 -0.244691 -0.045819\n",
       "Kames and esker -0.217259  0.551350 -0.098980"
      ]
     },
     "execution_count": 74,
     "metadata": {},
     "output_type": "execute_result"
    }
   ],
   "source": [
    "loadings = pca.components_.T\n",
    "df_loadings = pd.DataFrame(loadings, columns=[\"PC1\", \"PC2\", \"PC3\"])\n",
    "df_loadings = df_loadings.set_index(struct_data.columns)\n",
    "df_loadings.head()"
   ]
  },
  {
   "cell_type": "code",
   "execution_count": null,
   "metadata": {},
   "outputs": [],
   "source": [
    "# explained variance"
   ]
  }
 ],
 "metadata": {
  "kernelspec": {
   "display_name": ".venv",
   "language": "python",
   "name": "python3"
  },
  "language_info": {
   "codemirror_mode": {
    "name": "ipython",
    "version": 3
   },
   "file_extension": ".py",
   "mimetype": "text/x-python",
   "name": "python",
   "nbconvert_exporter": "python",
   "pygments_lexer": "ipython3",
   "version": "3.11.3"
  }
 },
 "nbformat": 4,
 "nbformat_minor": 2
}
