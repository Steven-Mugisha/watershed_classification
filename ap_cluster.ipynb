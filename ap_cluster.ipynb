{
 "cells": [
  {
   "cell_type": "code",
   "execution_count": 2,
   "metadata": {},
   "outputs": [],
   "source": [
    "import pandas as pd\n",
    "import numpy as np\n",
    "import matplotlib.pyplot as plt\n",
    "from sklearn.cluster import AffinityPropagation\n",
    "from dotenv import load_dotenv\n",
    "import os\n",
    "import warnings\n",
    "warnings.filterwarnings(\"ignore\")\n",
    "\n",
    "load_dotenv()\n",
    "directory = os.getenv(\"path\")\n",
    "# main_dir = os.getenv(\"main_dir\")"
   ]
  },
  {
   "cell_type": "code",
   "execution_count": 10,
   "metadata": {},
   "outputs": [
    {
     "name": "stdout",
     "output_type": "stream",
     "text": [
      "{1: np.int64(0), 2: np.int64(2), 3: np.int64(22), 4: np.int64(52), 5: np.int64(83), 6: np.int64(93), 7: np.int64(105), 8: np.int64(113), 9: np.int64(119), 10: np.int64(129)}\n",
      "{1: np.int64(17), 2: np.int64(22), 3: np.int64(24), 4: np.int64(38), 5: np.int64(45), 6: np.int64(67), 7: np.int64(87), 8: np.int64(96), 9: np.int64(99), 10: np.int64(111), 11: np.int64(112)}\n",
      "{1: np.int64(15), 2: np.int64(35), 3: np.int64(39), 4: np.int64(49), 5: np.int64(50), 6: np.int64(67), 7: np.int64(69), 8: np.int64(81), 9: np.int64(99), 10: np.int64(102), 11: np.int64(106), 12: np.int64(112)}\n",
      "{1: np.int64(9), 2: np.int64(21), 3: np.int64(48), 4: np.int64(49), 5: np.int64(51), 6: np.int64(56), 7: np.int64(84), 8: np.int64(88), 9: np.int64(93), 10: np.int64(98), 11: np.int64(109)}\n",
      "{1: np.int64(2), 2: np.int64(21), 3: np.int64(27), 4: np.int64(35), 5: np.int64(40), 6: np.int64(67), 7: np.int64(84), 8: np.int64(93), 9: np.int64(98)}\n",
      "{1: np.int64(30), 2: np.int64(31), 3: np.int64(35), 4: np.int64(52), 5: np.int64(63), 6: np.int64(92), 7: np.int64(97), 8: np.int64(99), 9: np.int64(114), 10: np.int64(130)}\n",
      "{1: np.int64(2), 2: np.int64(15), 3: np.int64(23), 4: np.int64(31), 5: np.int64(38), 6: np.int64(88), 7: np.int64(97), 8: np.int64(103), 9: np.int64(106), 10: np.int64(123)}\n",
      "{1: np.int64(2), 2: np.int64(3), 3: np.int64(6), 4: np.int64(39), 5: np.int64(40), 6: np.int64(64), 7: np.int64(92), 8: np.int64(106), 9: np.int64(109), 10: np.int64(117), 11: np.int64(130)}\n",
      "{1: np.int64(2), 2: np.int64(15), 3: np.int64(24), 4: np.int64(49), 5: np.int64(54), 6: np.int64(58), 7: np.int64(63), 8: np.int64(103), 9: np.int64(105), 10: np.int64(114), 11: np.int64(119), 12: np.int64(124)}\n",
      "{1: np.int64(10), 2: np.int64(17), 3: np.int64(20), 4: np.int64(21), 5: np.int64(43), 6: np.int64(51), 7: np.int64(94), 8: np.int64(97), 9: np.int64(110), 10: np.int64(119), 11: np.int64(128)}\n",
      "None\n"
     ]
    }
   ],
   "source": [
    "model = AffinityPropagation()\n",
    "\n",
    "# Clustering with AP.\n",
    "def clustering(dir, output_dir, model, dataset):\n",
    "    paths = os.listdir(dir)\n",
    "    files = sorted([file for file in paths if file.endswith(\".csv\")])\n",
    "\n",
    "    ap_res = {}\n",
    "    # output = {}\n",
    "    for file in files:\n",
    "        df = pd.read_csv(os.path.join(dir, file))\n",
    "\n",
    "        if \"Unnamed: 0\" in df.columns:\n",
    "            df.drop(df.columns[0], axis=1, inplace=True)\n",
    "            df.set_index(df.columns[0], inplace=True)\n",
    "\n",
    "        else:\n",
    "            df.set_index(df.columns[0], inplace=True)\n",
    "\n",
    "        df = df.fillna(df.median())\n",
    "\n",
    "        # AP clustering.\n",
    "        model.fit(df)\n",
    "        stations = list(model.cluster_centers_indices_)\n",
    "\n",
    "        indices= {}\n",
    "        for index, station in enumerate(list(stations)):\n",
    "            indices[index+1] = station\n",
    "\n",
    "        # assingning cluster labels to the stations\n",
    "        labels = model.labels_\n",
    "\n",
    "        # new_labels = labels + 1\n",
    "\n",
    "        # print(new_labels)\n",
    "        # print(indices)\n",
    "\n",
    "        # labels = labels + 1\n",
    "     \n",
    "        # labels = [indices[station] for station in labels]\n",
    "\n",
    "\n",
    "        # ap_res[file.split(\"/\")[-1].split(\".\")[0]] = list(labels)\n",
    "        # result = pd.DataFrame(ap_res).set_index(df.index)\n",
    "\n",
    "    # result.to_csv(os.path.join(output_dir, f'{dataset}.csv'), index=True)\n",
    "    # return result\n",
    "\n",
    "# riverflow metrics clustering\n",
    "# datasets = [\"func\", \"func_climate\", \"all_attributes\"]\n",
    "datasets = [\"func\"]\n",
    "\n",
    "for dataset in datasets:\n",
    "    dir = os.path.join(directory, \"computed_data/pca_results\", dataset)\n",
    "    outputdir = os.path.join(directory, \"computed_data/ap_results\")\n",
    "    res = clustering(dir, outputdir, model, dataset)\n",
    "    print(res)"
   ]
  },
  {
   "cell_type": "code",
   "execution_count": 4,
   "metadata": {},
   "outputs": [
    {
     "data": {
      "text/plain": [
       "{'2011_func_struct_climate_attrs': 13,\n",
       " '2012_func_struct_climate_attrs': 15,\n",
       " '2013_func_struct_climate_attrs': 14,\n",
       " '2014_func_struct_climate_attrs': 15,\n",
       " '2015_func_struct_climate_attrs': 15,\n",
       " '2016_func_struct_climate_attrs': 15,\n",
       " '2017_func_struct_climate_attrs': 15,\n",
       " '2018_func_struct_climate_attrs': 17,\n",
       " '2019_func_struct_climate_attrs': 15,\n",
       " '2020_func_struct_climate_attrs': 15,\n",
       " '2011_func_metrics': 10,\n",
       " '2012_func_metrics': 11,\n",
       " '2013_func_metrics': 12,\n",
       " '2014_func_metrics': 11,\n",
       " '2015_func_metrics': 9,\n",
       " '2016_func_metrics': 10,\n",
       " '2017_func_metrics': 10,\n",
       " '2018_func_metrics': 11,\n",
       " '2019_func_metrics': 12,\n",
       " '2020_func_metrics': 11,\n",
       " '2011_func_climate_attrs': 13,\n",
       " '2012_func_climate_attrs': 11,\n",
       " '2013_func_climate_attrs': 10,\n",
       " '2014_func_climate_attrs': 12,\n",
       " '2015_func_climate_attrs': 10,\n",
       " '2016_func_climate_attrs': 10,\n",
       " '2017_func_climate_attrs': 11,\n",
       " '2018_func_climate_attrs': 12,\n",
       " '2019_func_climate_attrs': 13,\n",
       " '2020_func_climate_attrs': 12}"
      ]
     },
     "execution_count": 4,
     "metadata": {},
     "output_type": "execute_result"
    }
   ],
   "source": [
    "# check the number of clusters\n",
    "dir = os.path.join(directory, 'computed_data/ap_results')\n",
    "paths = os.listdir(dir)\n",
    "files = sorted([file for file in paths if file.endswith(\".csv\")])\n",
    "\n",
    "ap_results = {}\n",
    "for file in files:\n",
    "    df = pd.read_csv(os.path.join(dir, file))\n",
    "    for col in df.columns:\n",
    "        if col == 'station_id':\n",
    "            continue\n",
    "        ap_results[col] = df[col].nunique()\n",
    "\n",
    "ap_results"
   ]
  }
 ],
 "metadata": {
  "kernelspec": {
   "display_name": ".venv",
   "language": "python",
   "name": "python3"
  },
  "language_info": {
   "codemirror_mode": {
    "name": "ipython",
    "version": 3
   },
   "file_extension": ".py",
   "mimetype": "text/x-python",
   "name": "python",
   "nbconvert_exporter": "python",
   "pygments_lexer": "ipython3",
   "version": "3.12.4"
  }
 },
 "nbformat": 4,
 "nbformat_minor": 2
}
