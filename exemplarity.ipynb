{
 "cells": [
  {
   "cell_type": "code",
   "execution_count": 2,
   "metadata": {},
   "outputs": [],
   "source": [
    "import pandas as pd\n",
    "import numpy as np\n",
    "import geopandas as gpd\n",
    "from dotenv import load_dotenv\n",
    "import os\n",
    "\n",
    "import warnings\n",
    "warnings.filterwarnings(\"ignore\")\n",
    "\n",
    "load_dotenv()\n",
    "directory = os.getenv(\"path\")"
   ]
  },
  {
   "cell_type": "code",
   "execution_count": null,
   "metadata": {},
   "outputs": [],
   "source": [
    "def ChangeExemplarsToBinary(datasetPath: str) -> pd.DataFrame:\n",
    "    toBinary_df = pd.read_csv(datasetPath)\n",
    "    toBinary_df = toBinary_df.sort_values(by=[\"station_id\"])\n",
    "    toBinary_df = toBinary_df.reset_index(drop=True)\n",
    "    toBinary_df.index += 1\n",
    "    toBinary_df = toBinary_df.iloc[:, 1:]\n",
    "\n",
    "    for col in toBinary_df.columns:\n",
    "        unique_values = toBinary_df[col].unique().tolist()\n",
    "        toBinary_df[col] = toBinary_df.index.map(\n",
    "            lambda x: 1 if x in unique_values else 0\n",
    "        )\n",
    "        # for each column name add _ classification to the name\n",
    "        # toBinary_df.rename(columns={col: col + \"_\" + datasetPath}, inplace=True)\n",
    "\n",
    "    return toBinary_df\n",
    "\n",
    "# test:\n",
    "datasetPath = os.path.join(directory, \"computed_data/ap_results\", \"func.csv\")\n",
    "ChangeExemplarsToBinary(datasetPath)"
   ]
  },
  {
   "cell_type": "code",
   "execution_count": 9,
   "metadata": {},
   "outputs": [],
   "source": [
    "def exemplarStabilityIndex(classification):\n",
    "    df = ChangeExemplarsToBinary(classification)\n",
    "    nameClass = classification.split(\"-\")[1]\n",
    "    df[f\"sum_exemplars_{nameClass}\"] = df.sum(axis=1)\n",
    "    sum_list = df[f\"sum_exemplars_{nameClass}\"].to_list()\n",
    "    return sum_list"
   ]
  },
  {
   "cell_type": "code",
   "execution_count": null,
   "metadata": {},
   "outputs": [],
   "source": [
    "func_df = exemplarStabilityIndex(os.path.join(directory, \"computed_data/ap_results\", \"func.csv\"))\n",
    "func_climate_df = exemplarStabilityIndex(os.path.join(directory, \"computed_data/ap_results\", \"func_climate.csv\"))\n",
    "func_climate_struct_df = exemplarStabilityIndex(os.path.join(directory, \"computed_data/ap_results\", \"all_attributes.csv\"))\n",
    "\n",
    "# df = pd.DataFrame({\"F\": func_df, \"FC\": func_climate_df, \"FCS\": func_climate_struct_df})\n",
    "# df[\"All\"] = df.sum(axis=1)\n",
    "# df\n",
    "\n",
    "func_df"
   ]
  }
 ],
 "metadata": {
  "kernelspec": {
   "display_name": ".venv",
   "language": "python",
   "name": "python3"
  },
  "language_info": {
   "codemirror_mode": {
    "name": "ipython",
    "version": 3
   },
   "file_extension": ".py",
   "mimetype": "text/x-python",
   "name": "python",
   "nbconvert_exporter": "python",
   "pygments_lexer": "ipython3",
   "version": "3.12.4"
  }
 },
 "nbformat": 4,
 "nbformat_minor": 2
}
