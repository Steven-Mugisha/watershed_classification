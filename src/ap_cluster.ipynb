{
 "cells": [
  {
   "cell_type": "code",
   "execution_count": 1,
   "metadata": {},
   "outputs": [],
   "source": [
    "import pandas as pd\n",
    "import numpy as np\n",
    "import matplotlib.pyplot as plt\n",
    "from sklearn.cluster import AffinityPropagation\n",
    "from dotenv import load_dotenv\n",
    "import os\n",
    "import warnings\n",
    "warnings.filterwarnings(\"ignore\")\n",
    "\n",
    "load_dotenv()\n",
    "directory = os.getenv(\"output_dir\")"
   ]
  },
  {
   "cell_type": "code",
   "execution_count": 8,
   "metadata": {},
   "outputs": [],
   "source": [
    "model = AffinityPropagation()\n",
    "\n",
    "# Clustering with AP.\n",
    "def clustering(dir, output_dir, model, dataset):\n",
    "    paths = os.listdir(dir)\n",
    "    files = sorted([file for file in paths if file.endswith(\".csv\")])\n",
    "\n",
    "    ap_res = {}\n",
    "    for file in files:\n",
    "        df = pd.read_csv(os.path.join(dir, file))\n",
    "\n",
    "        if \"Unnamed: 0\" in df.columns:\n",
    "            df.drop(df.columns[0], axis=1, inplace=True)\n",
    "            df.set_index(df.columns[0], inplace=True)\n",
    "\n",
    "        else:\n",
    "            df.set_index(df.columns[0], inplace=True)\n",
    "\n",
    "        df = df.fillna(df.median())\n",
    "\n",
    "        # AP clustering.\n",
    "        model.fit(df)\n",
    "        labels = model.labels_\n",
    "        labels = labels + 1\n",
    "        ap_res[file.split(\"/\")[-1].split(\".\")[0]] = list(labels)\n",
    "        result = pd.DataFrame(ap_res).set_index(df.index)\n",
    "\n",
    "    result.to_csv(os.path.join(output_dir, f'{dataset}.csv'), index=True)\n",
    "\n",
    "    return result\n",
    "\n",
    "# riverflow metrics clustering\n",
    "datasets = [\"func\", \"func_climate\", \"all_attributes\"]\n",
    "\n",
    "for dataset in datasets:\n",
    "    dir = os.path.join(directory, dataset)\n",
    "    outputdir = os.path.join(directory, \"ap_results\")\n",
    "    clustering(dir, outputdir, model, dataset)"
   ]
  }
 ],
 "metadata": {
  "kernelspec": {
   "display_name": ".venv",
   "language": "python",
   "name": "python3"
  },
  "language_info": {
   "codemirror_mode": {
    "name": "ipython",
    "version": 3
   },
   "file_extension": ".py",
   "mimetype": "text/x-python",
   "name": "python",
   "nbconvert_exporter": "python",
   "pygments_lexer": "ipython3",
   "version": "3.11.6"
  }
 },
 "nbformat": 4,
 "nbformat_minor": 2
}
